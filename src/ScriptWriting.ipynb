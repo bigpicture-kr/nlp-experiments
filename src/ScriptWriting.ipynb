{
 "cells": [
  {
   "cell_type": "code",
   "execution_count": 1,
   "id": "3ad09463-a9ee-4d34-af79-625a11be7002",
   "metadata": {},
   "outputs": [
    {
     "name": "stderr",
     "output_type": "stream",
     "text": [
      "2022-07-01 08:01:58.008770: I tensorflow/core/util/util.cc:169] oneDNN custom operations are on. You may see slightly different numerical results due to floating-point round-off errors from different computation orders. To turn them off, set the environment variable `TF_ENABLE_ONEDNN_OPTS=0`.\n"
     ]
    }
   ],
   "source": [
    "import os\n",
    "import torch\n",
    "import transformers\n",
    "from transformers import AutoModelWithLMHead, PreTrainedTokenizerFast\n",
    "from fastai.text.all import *\n",
    "from tqdm.notebook import tqdm\n",
    "import fastai\n",
    "import re"
   ]
  },
  {
   "cell_type": "code",
   "execution_count": 2,
   "id": "018a1a7b-280b-4c80-b1bf-9590999156bc",
   "metadata": {},
   "outputs": [
    {
     "name": "stdout",
     "output_type": "stream",
     "text": [
      "1.7.1\n",
      "4.21.0.dev0\n",
      "2.2.5\n"
     ]
    }
   ],
   "source": [
    "print(torch.__version__)\n",
    "print(transformers.__version__)\n",
    "print(fastai.__version__)"
   ]
  },
  {
   "cell_type": "code",
   "execution_count": 3,
   "id": "c2cd1388-7579-48d7-9c30-5f8ba99ba738",
   "metadata": {},
   "outputs": [],
   "source": [
    "DEVICE = torch.device('cuda' if torch.cuda.is_available() else 'cpu')\n",
    "PRETRAINED_MODEL = 'skt/kogpt2-base-v2'\n",
    "BATCH_SIZE = 8\n",
    "SEQ_LENGTH = 256\n",
    "MAX_LENGTH = 128\n",
    "DATASET_PATH = './dataset/jjaltoon_scripts_10_raw/'"
   ]
  },
  {
   "cell_type": "code",
   "execution_count": 4,
   "id": "24297b2b-a8bf-4430-882f-14e24b83bff7",
   "metadata": {},
   "outputs": [
    {
     "name": "stderr",
     "output_type": "stream",
     "text": [
      "The tokenizer class you load from this checkpoint is not the same type as the class this function is called from. It may result in unexpected tokenization. \n",
      "The tokenizer class you load from this checkpoint is 'GPT2Tokenizer'. \n",
      "The class this function is called from is 'PreTrainedTokenizerFast'.\n",
      "/usr/local/lib/python3.8/dist-packages/transformers/models/auto/modeling_auto.py:969: FutureWarning: The class `AutoModelWithLMHead` is deprecated and will be removed in a future version. Please use `AutoModelForCausalLM` for causal language models, `AutoModelForMaskedLM` for masked language models and `AutoModelForSeq2SeqLM` for encoder-decoder models.\n",
      "  warnings.warn(\n"
     ]
    }
   ],
   "source": [
    "tokenizer = PreTrainedTokenizerFast.from_pretrained(\n",
    "    PRETRAINED_MODEL,\n",
    "    unk_token='<unk>',\n",
    "    pad_token='<pad>',\n",
    "    mask_token='<mask>',\n",
    "    bos_token='<s>',\n",
    "    eos_token='</s>'\n",
    ")\n",
    "model = AutoModelWithLMHead.from_pretrained(PRETRAINED_MODEL)"
   ]
  },
  {
   "cell_type": "code",
   "execution_count": 5,
   "id": "9237cebc-1c3d-4567-9dad-82615931cd28",
   "metadata": {},
   "outputs": [
    {
     "data": {
      "text/plain": [
       "['▁G',\n",
       " 'P',\n",
       " 'T',\n",
       " '-2',\n",
       " '▁토크',\n",
       " '나이',\n",
       " '저',\n",
       " '▁테',\n",
       " '스트',\n",
       " '.',\n",
       " '▁안녕',\n",
       " '하',\n",
       " '세',\n",
       " '요.']"
      ]
     },
     "execution_count": 5,
     "metadata": {},
     "output_type": "execute_result"
    }
   ],
   "source": [
    "tokenizer.tokenize('GPT-2 토크나이저 테스트. 안녕하세요.')"
   ]
  },
  {
   "cell_type": "code",
   "execution_count": 6,
   "id": "1038f2b8-3b8a-4169-ba08-b9490e204939",
   "metadata": {},
   "outputs": [
    {
     "data": {
      "text/plain": [
       "'오늘의 메뉴는 ‘치킨’. 치즈에 햄을 넣어 만든 소스다.\\n이렇게 해서 나온 것이 바로 닭가슴살이다.\\n닭 가슴살은 육질이 부드럽고 담백해 남녀노소 누구나 좋아하는 음식 중 하나다.\\n특히, 이번에 선보인 신메일은 국내산 돼지고기를 사용해 더욱 고소하고 부드러운 맛을 느낄 수 있다.\\n또한 양파, 마늘 등 야채와 함께 곁들여 먹으면 더 맛있게 먹을 수도 있다.</d> 지난달 30일 서울 강남구 삼성동 코엑스에서 열린 \\'2018 대한민국 디자인대상\\' 시상식에서 한국디자인진흥원이 주최하는 이번 공모전은 총 330여점의 작품이 접수됐다.\\n심사위원단은 \"한국'"
      ]
     },
     "execution_count": 6,
     "metadata": {},
     "output_type": "execute_result"
    }
   ],
   "source": [
    "text = '오늘의 메뉴는'\n",
    "input_ids = tokenizer.encode(text)\n",
    "gen_ids = model.generate(\n",
    "    torch.tensor([input_ids]),\n",
    "    max_length=MAX_LENGTH,\n",
    "    repetition_penalty=2.0,\n",
    "    pad_token_id=tokenizer.pad_token_id,\n",
    "    bos_token_id=tokenizer.bos_token_id,\n",
    "    eos_token_id=tokenizer.eos_token_id,\n",
    "    use_cache=True\n",
    ")\n",
    "generated = tokenizer.decode(gen_ids[0,:].tolist())\n",
    "generated"
   ]
  },
  {
   "cell_type": "code",
   "execution_count": 7,
   "id": "2c0599b3-1a90-432b-940e-717c6932ca68",
   "metadata": {},
   "outputs": [
    {
     "data": {
      "application/vnd.jupyter.widget-view+json": {
       "model_id": "0433caddacdc458e96d522afc9b30c5e",
       "version_major": 2,
       "version_minor": 0
      },
      "text/plain": [
       "input data files:   0%|          | 0/10 [00:00<?, ?it/s]"
      ]
     },
     "metadata": {},
     "output_type": "display_data"
    },
    {
     "data": {
      "text/plain": [
       "47854"
      ]
     },
     "execution_count": 7,
     "metadata": {},
     "output_type": "execute_result"
    }
   ],
   "source": [
    "texts = []\n",
    "\n",
    "file_names = os.listdir(DATASET_PATH)\n",
    "for file_name in tqdm(file_names, desc='input data files'):\n",
    "    file_path = os.path.join(DATASET_PATH, file_name)\n",
    "    with open(file_path, mode='r', encoding='utf-8') as file:\n",
    "        file_content = file.read()\n",
    "    texts.append(' '.join(file_content.split()))\n",
    "\n",
    "data = ' '.join(texts)\n",
    "len(data)"
   ]
  },
  {
   "cell_type": "code",
   "execution_count": 8,
   "id": "99d22017-6425-4c25-a65f-e4a097a0cffb",
   "metadata": {},
   "outputs": [],
   "source": [
    "# Normalization\n",
    "#data = re.sub('\\(계속\\).*?[●○]', '', data)\n",
    "#data = re.sub('[●○]', '', data)\n",
    "#len(data)"
   ]
  },
  {
   "cell_type": "code",
   "execution_count": 9,
   "id": "075d6151-a5c1-40a4-9e5f-1846105848ca",
   "metadata": {},
   "outputs": [],
   "source": [
    "class TransformersTokenizer(Transform):\n",
    "    def __init__(self, tokenizer):\n",
    "        self.tokenizer = tokenizer\n",
    "    \n",
    "    def encodes(self, x):\n",
    "        tokens = self.tokenizer.tokenize(x)\n",
    "        return tensor(self.tokenizer.convert_tokens_to_ids(tokens))\n",
    "    \n",
    "    def decodes(self, x):\n",
    "        return TitledStr(self.tokenizer.decode(x.cpu().numpy()))"
   ]
  },
  {
   "cell_type": "code",
   "execution_count": 10,
   "id": "871c3d54-6095-492f-9bab-469bd3f82be1",
   "metadata": {},
   "outputs": [],
   "source": [
    "train_data = data[:int(len(data) * 0.9)]\n",
    "test_data = data[int(len(data) * 0.9):]\n",
    "splits = [[0], [1]]"
   ]
  },
  {
   "cell_type": "code",
   "execution_count": 11,
   "id": "53a8d5e9-f9fe-4ddb-8800-26b70cadf0a6",
   "metadata": {},
   "outputs": [
    {
     "name": "stderr",
     "output_type": "stream",
     "text": [
      "/usr/local/lib/python3.8/dist-packages/fastai/torch_core.py:458: FutureWarning: The series.append method is deprecated and will be removed from pandas in a future version. Use pandas.concat instead.\n",
      "  ax = ax.append(pd.Series({label: o}))\n",
      "/usr/local/lib/python3.8/dist-packages/fastai/torch_core.py:458: FutureWarning: The series.append method is deprecated and will be removed from pandas in a future version. Use pandas.concat instead.\n",
      "  ax = ax.append(pd.Series({label: o}))\n",
      "/usr/local/lib/python3.8/dist-packages/fastai/torch_core.py:458: FutureWarning: The series.append method is deprecated and will be removed from pandas in a future version. Use pandas.concat instead.\n",
      "  ax = ax.append(pd.Series({label: o}))\n",
      "/usr/local/lib/python3.8/dist-packages/fastai/torch_core.py:458: FutureWarning: The series.append method is deprecated and will be removed from pandas in a future version. Use pandas.concat instead.\n",
      "  ax = ax.append(pd.Series({label: o}))\n"
     ]
    },
    {
     "data": {
      "text/html": [
       "<table border=\"1\" class=\"dataframe\">\n",
       "  <thead>\n",
       "    <tr style=\"text-align: right;\">\n",
       "      <th></th>\n",
       "      <th>text</th>\n",
       "      <th>text_</th>\n",
       "    </tr>\n",
       "  </thead>\n",
       "  <tbody>\n",
       "    <tr>\n",
       "      <th>0</th>\n",
       "      <td>짐승친구들 6화 외계인 할일 없어보이는 짐승친구들이 집안에서 각자의 방식으로 뒹굴거리고 있다. 땅땅이 : 노트북 고장나서 할 것도 없고... 너무 너무 심심한 것입니땅!!!!! 김현식 : 올만에 다같이 피방이나 ᄀ? 슘&lt;unk&gt;이 : 우리가 피방 갈 돈이 어&lt;unk&gt;슘&lt;unk&gt;... 땅땅이 : 집사 지갑을 한번 뒤져봅씨땅!!!!!!! &lt;unk&gt; 수민의 지갑에 포스트잇으로 ‘건드리면 중성화 수술’이라고 붙어있다. 땅땅이 :......지갑은 안건드리는 게 좋겠습니땅 김현식 : 뭐 재밌는 거 없나...? 슘&lt;unk&gt;이 : 하늘에서 컴퓨터라도 한대 떨어졌으면 좋겠슘&lt;unk&gt;.... ----- 갑자기 창문이 와장창 깨지며 집 안으로 컴퓨터 한대가 날아와 새대갈의 머리를 강타한다. 머리에 큰 혹을 달고 기절한 새대갈과 그 옆에 떨어져있는 컴퓨터. 땅땅이, 슘&lt;unk&gt;이, 현식이 : 에에에엣!?!?! (현식이는 팻말로) 땅땅이 : 괘,괜찮습니깡!? 어디 다친데 없습니</td>\n",
       "      <td>친구들 6화 외계인 할일 없어보이는 짐승친구들이 집안에서 각자의 방식으로 뒹굴거리고 있다. 땅땅이 : 노트북 고장나서 할 것도 없고... 너무 너무 심심한 것입니땅!!!!! 김현식 : 올만에 다같이 피방이나 ᄀ? 슘&lt;unk&gt;이 : 우리가 피방 갈 돈이 어&lt;unk&gt;슘&lt;unk&gt;... 땅땅이 : 집사 지갑을 한번 뒤져봅씨땅!!!!!!! &lt;unk&gt; 수민의 지갑에 포스트잇으로 ‘건드리면 중성화 수술’이라고 붙어있다. 땅땅이 :......지갑은 안건드리는 게 좋겠습니땅 김현식 : 뭐 재밌는 거 없나...? 슘&lt;unk&gt;이 : 하늘에서 컴퓨터라도 한대 떨어졌으면 좋겠슘&lt;unk&gt;.... ----- 갑자기 창문이 와장창 깨지며 집 안으로 컴퓨터 한대가 날아와 새대갈의 머리를 강타한다. 머리에 큰 혹을 달고 기절한 새대갈과 그 옆에 떨어져있는 컴퓨터. 땅땅이, 슘&lt;unk&gt;이, 현식이 : 에에에엣!?!?! (현식이는 팻말로) 땅땅이 : 괘,괜찮습니깡!? 어디 다친데 없습니깡</td>\n",
       "    </tr>\n",
       "    <tr>\n",
       "      <th>1</th>\n",
       "      <td>비켜라.... 땅땅이 : 우리도 지금 굉장히 중요한 작업하고 있는 거 안보입니깡!? 전체적인 풀샷이 잡히면서 노트북에서 개가 짝짓기 하는 장면이 나온다 수민 : 짝짓기 영상 보는게 중요한 작업이냐? 이 변태새끼들아? 김현식 : 형 우리가 뭐 이런거 자주 보는 것도 아니고 이해 좀 해줘 수민 : 하루에 일곱번씩 기본 5시간 보는게 자주 보는게 아니면 대체 얼마나 봐야 자주 보는 거냐? 이 시바견아 땅땅이 : 아무튼 우리 해피 타임 아직 안끝났으니까 끝날 때까지 기다리십씨오!!!!!!!!! (현식에게)그리고 찌발럼아 이제 고양이 짝짓기 영상 좀 봅씨땅!!!!!!!!!! 언제까지 개쌔끼들 하는 것만 봐야됩니깡!? 김현식 : 진짜 딱 10분만 더 보자 ᄅᄋ 땅땅이 : 그렇게 10분만 더 보자 보자 한 게 벌써 2시간 &lt;unk&gt;니땅 개찌발련아! 수민 : (잠시 땅땅이와 현식이를 째려보다가 뭔가를 결심한 듯).......휴 안되겠다...! 아무래도 내가 니</td>\n",
       "      <td>켜라.... 땅땅이 : 우리도 지금 굉장히 중요한 작업하고 있는 거 안보입니깡!? 전체적인 풀샷이 잡히면서 노트북에서 개가 짝짓기 하는 장면이 나온다 수민 : 짝짓기 영상 보는게 중요한 작업이냐? 이 변태새끼들아? 김현식 : 형 우리가 뭐 이런거 자주 보는 것도 아니고 이해 좀 해줘 수민 : 하루에 일곱번씩 기본 5시간 보는게 자주 보는게 아니면 대체 얼마나 봐야 자주 보는 거냐? 이 시바견아 땅땅이 : 아무튼 우리 해피 타임 아직 안끝났으니까 끝날 때까지 기다리십씨오!!!!!!!!! (현식에게)그리고 찌발럼아 이제 고양이 짝짓기 영상 좀 봅씨땅!!!!!!!!!! 언제까지 개쌔끼들 하는 것만 봐야됩니깡!? 김현식 : 진짜 딱 10분만 더 보자 ᄅᄋ 땅땅이 : 그렇게 10분만 더 보자 보자 한 게 벌써 2시간 &lt;unk&gt;니땅 개찌발련아! 수민 : (잠시 땅땅이와 현식이를 째려보다가 뭔가를 결심한 듯).......휴 안되겠다...! 아무래도 내가 니들</td>\n",
       "    </tr>\n",
       "  </tbody>\n",
       "</table>"
      ],
      "text/plain": [
       "<IPython.core.display.HTML object>"
      ]
     },
     "metadata": {},
     "output_type": "display_data"
    }
   ],
   "source": [
    "tls = TfmdLists([train_data, test_data], TransformersTokenizer(tokenizer), splits=splits, dl_type=LMDataLoader)\n",
    "dls = tls.dataloaders(bs=BATCH_SIZE, seq_len=SEQ_LENGTH)\n",
    "dls.show_batch(max_n=2)"
   ]
  },
  {
   "cell_type": "code",
   "execution_count": 12,
   "id": "19bf6902-1199-40f0-bedb-3ecc7272fc44",
   "metadata": {},
   "outputs": [],
   "source": [
    "class DropOutput(Callback):\n",
    "    def after_pred(self):\n",
    "        self.learn.pred = self.pred[0]"
   ]
  },
  {
   "cell_type": "code",
   "execution_count": 13,
   "id": "76fddbc7-07ba-49b4-8de3-4c985add5df6",
   "metadata": {},
   "outputs": [
    {
     "data": {
      "text/html": [
       "\n",
       "<style>\n",
       "    /* Turns off some styling */\n",
       "    progress {\n",
       "        /* gets rid of default border in Firefox and Opera. */\n",
       "        border: none;\n",
       "        /* Needs to be in here for Safari polyfill so background images work as expected. */\n",
       "        background-size: auto;\n",
       "    }\n",
       "    .progress-bar-interrupted, .progress-bar-interrupted::-webkit-progress-bar {\n",
       "        background: #F44336;\n",
       "    }\n",
       "</style>\n"
      ],
      "text/plain": [
       "<IPython.core.display.HTML object>"
      ]
     },
     "metadata": {},
     "output_type": "display_data"
    },
    {
     "data": {
      "text/html": [],
      "text/plain": [
       "<IPython.core.display.HTML object>"
      ]
     },
     "metadata": {},
     "output_type": "display_data"
    },
    {
     "data": {
      "text/plain": [
       "SuggestedLRs(lr_min=8.317637839354575e-05, lr_steep=0.00019054606673307717)"
      ]
     },
     "execution_count": 13,
     "metadata": {},
     "output_type": "execute_result"
    },
    {
     "data": {
      "image/png": "[encoded data removed]",
      "text/plain": [
       "<Figure size 432x288 with 1 Axes>"
      ]
     },
     "metadata": {
      "needs_background": "light"
     },
     "output_type": "display_data"
    }
   ],
   "source": [
    "learn = Learner(dls, model, loss_func=CrossEntropyLossFlat(), cbs=[DropOutput], metrics=Perplexity()).to_fp16()\n",
    "learn.lr_find()"
   ]
  },
  {
   "cell_type": "code",
   "execution_count": 14,
   "id": "9c9d5242-438f-4ddf-a9c3-0e78b689be52",
   "metadata": {},
   "outputs": [
    {
     "data": {
      "text/html": [
       "\n",
       "<style>\n",
       "    /* Turns off some styling */\n",
       "    progress {\n",
       "        /* gets rid of default border in Firefox and Opera. */\n",
       "        border: none;\n",
       "        /* Needs to be in here for Safari polyfill so background images work as expected. */\n",
       "        background-size: auto;\n",
       "    }\n",
       "    .progress-bar-interrupted, .progress-bar-interrupted::-webkit-progress-bar {\n",
       "        background: #F44336;\n",
       "    }\n",
       "</style>\n"
      ],
      "text/plain": [
       "<IPython.core.display.HTML object>"
      ]
     },
     "metadata": {},
     "output_type": "display_data"
    },
    {
     "data": {
      "text/html": [
       "<table border=\"1\" class=\"dataframe\">\n",
       "  <thead>\n",
       "    <tr style=\"text-align: left;\">\n",
       "      <th>epoch</th>\n",
       "      <th>train_loss</th>\n",
       "      <th>valid_loss</th>\n",
       "      <th>perplexity</th>\n",
       "      <th>time</th>\n",
       "    </tr>\n",
       "  </thead>\n",
       "  <tbody>\n",
       "    <tr>\n",
       "      <td>0</td>\n",
       "      <td>4.001178</td>\n",
       "      <td>4.098350</td>\n",
       "      <td>60.240810</td>\n",
       "      <td>00:03</td>\n",
       "    </tr>\n",
       "    <tr>\n",
       "      <td>1</td>\n",
       "      <td>3.463344</td>\n",
       "      <td>3.996528</td>\n",
       "      <td>54.408920</td>\n",
       "      <td>00:03</td>\n",
       "    </tr>\n",
       "    <tr>\n",
       "      <td>2</td>\n",
       "      <td>2.989294</td>\n",
       "      <td>4.233133</td>\n",
       "      <td>68.932884</td>\n",
       "      <td>00:03</td>\n",
       "    </tr>\n",
       "    <tr>\n",
       "      <td>3</td>\n",
       "      <td>2.565830</td>\n",
       "      <td>4.521628</td>\n",
       "      <td>91.985222</td>\n",
       "      <td>00:03</td>\n",
       "    </tr>\n",
       "    <tr>\n",
       "      <td>4</td>\n",
       "      <td>2.198289</td>\n",
       "      <td>4.813874</td>\n",
       "      <td>123.208031</td>\n",
       "      <td>00:03</td>\n",
       "    </tr>\n",
       "    <tr>\n",
       "      <td>5</td>\n",
       "      <td>1.917145</td>\n",
       "      <td>5.160504</td>\n",
       "      <td>174.252319</td>\n",
       "      <td>00:03</td>\n",
       "    </tr>\n",
       "    <tr>\n",
       "      <td>6</td>\n",
       "      <td>1.731756</td>\n",
       "      <td>5.602315</td>\n",
       "      <td>271.053284</td>\n",
       "      <td>00:03</td>\n",
       "    </tr>\n",
       "    <tr>\n",
       "      <td>7</td>\n",
       "      <td>1.631186</td>\n",
       "      <td>5.863428</td>\n",
       "      <td>351.928375</td>\n",
       "      <td>00:03</td>\n",
       "    </tr>\n",
       "    <tr>\n",
       "      <td>8</td>\n",
       "      <td>1.559130</td>\n",
       "      <td>6.296168</td>\n",
       "      <td>542.489258</td>\n",
       "      <td>00:03</td>\n",
       "    </tr>\n",
       "    <tr>\n",
       "      <td>9</td>\n",
       "      <td>1.467610</td>\n",
       "      <td>6.455803</td>\n",
       "      <td>636.384460</td>\n",
       "      <td>00:03</td>\n",
       "    </tr>\n",
       "    <tr>\n",
       "      <td>10</td>\n",
       "      <td>1.346110</td>\n",
       "      <td>6.713798</td>\n",
       "      <td>823.692749</td>\n",
       "      <td>00:03</td>\n",
       "    </tr>\n",
       "    <tr>\n",
       "      <td>11</td>\n",
       "      <td>1.234558</td>\n",
       "      <td>6.743338</td>\n",
       "      <td>848.387634</td>\n",
       "      <td>00:03</td>\n",
       "    </tr>\n",
       "    <tr>\n",
       "      <td>12</td>\n",
       "      <td>1.117606</td>\n",
       "      <td>6.588965</td>\n",
       "      <td>727.028320</td>\n",
       "      <td>00:03</td>\n",
       "    </tr>\n",
       "    <tr>\n",
       "      <td>13</td>\n",
       "      <td>1.006667</td>\n",
       "      <td>7.018589</td>\n",
       "      <td>1117.209717</td>\n",
       "      <td>00:03</td>\n",
       "    </tr>\n",
       "    <tr>\n",
       "      <td>14</td>\n",
       "      <td>0.891444</td>\n",
       "      <td>6.959626</td>\n",
       "      <td>1053.239746</td>\n",
       "      <td>00:03</td>\n",
       "    </tr>\n",
       "    <tr>\n",
       "      <td>15</td>\n",
       "      <td>0.784429</td>\n",
       "      <td>7.225386</td>\n",
       "      <td>1373.869019</td>\n",
       "      <td>00:03</td>\n",
       "    </tr>\n",
       "    <tr>\n",
       "      <td>16</td>\n",
       "      <td>0.695116</td>\n",
       "      <td>6.912209</td>\n",
       "      <td>1004.463684</td>\n",
       "      <td>00:03</td>\n",
       "    </tr>\n",
       "    <tr>\n",
       "      <td>17</td>\n",
       "      <td>0.611470</td>\n",
       "      <td>7.331952</td>\n",
       "      <td>1528.361694</td>\n",
       "      <td>00:03</td>\n",
       "    </tr>\n",
       "    <tr>\n",
       "      <td>18</td>\n",
       "      <td>0.537698</td>\n",
       "      <td>7.250249</td>\n",
       "      <td>1408.455444</td>\n",
       "      <td>00:03</td>\n",
       "    </tr>\n",
       "    <tr>\n",
       "      <td>19</td>\n",
       "      <td>0.473637</td>\n",
       "      <td>7.420988</td>\n",
       "      <td>1670.683472</td>\n",
       "      <td>00:03</td>\n",
       "    </tr>\n",
       "    <tr>\n",
       "      <td>20</td>\n",
       "      <td>0.419395</td>\n",
       "      <td>7.299848</td>\n",
       "      <td>1480.074341</td>\n",
       "      <td>00:03</td>\n",
       "    </tr>\n",
       "    <tr>\n",
       "      <td>21</td>\n",
       "      <td>0.377429</td>\n",
       "      <td>7.380915</td>\n",
       "      <td>1605.057983</td>\n",
       "      <td>00:03</td>\n",
       "    </tr>\n",
       "    <tr>\n",
       "      <td>22</td>\n",
       "      <td>0.338932</td>\n",
       "      <td>7.412897</td>\n",
       "      <td>1657.220581</td>\n",
       "      <td>00:03</td>\n",
       "    </tr>\n",
       "    <tr>\n",
       "      <td>23</td>\n",
       "      <td>0.307376</td>\n",
       "      <td>7.518280</td>\n",
       "      <td>1841.397461</td>\n",
       "      <td>00:03</td>\n",
       "    </tr>\n",
       "    <tr>\n",
       "      <td>24</td>\n",
       "      <td>0.281594</td>\n",
       "      <td>7.505164</td>\n",
       "      <td>1817.403564</td>\n",
       "      <td>00:03</td>\n",
       "    </tr>\n",
       "    <tr>\n",
       "      <td>25</td>\n",
       "      <td>0.259678</td>\n",
       "      <td>7.448480</td>\n",
       "      <td>1717.251221</td>\n",
       "      <td>00:03</td>\n",
       "    </tr>\n",
       "    <tr>\n",
       "      <td>26</td>\n",
       "      <td>0.247440</td>\n",
       "      <td>7.689246</td>\n",
       "      <td>2184.727051</td>\n",
       "      <td>00:03</td>\n",
       "    </tr>\n",
       "    <tr>\n",
       "      <td>27</td>\n",
       "      <td>0.226334</td>\n",
       "      <td>7.736104</td>\n",
       "      <td>2289.533936</td>\n",
       "      <td>00:03</td>\n",
       "    </tr>\n",
       "    <tr>\n",
       "      <td>28</td>\n",
       "      <td>0.208480</td>\n",
       "      <td>7.674284</td>\n",
       "      <td>2152.281982</td>\n",
       "      <td>00:03</td>\n",
       "    </tr>\n",
       "    <tr>\n",
       "      <td>29</td>\n",
       "      <td>0.187968</td>\n",
       "      <td>7.702690</td>\n",
       "      <td>2214.295654</td>\n",
       "      <td>00:03</td>\n",
       "    </tr>\n",
       "    <tr>\n",
       "      <td>30</td>\n",
       "      <td>0.169613</td>\n",
       "      <td>7.719443</td>\n",
       "      <td>2251.705811</td>\n",
       "      <td>00:03</td>\n",
       "    </tr>\n",
       "    <tr>\n",
       "      <td>31</td>\n",
       "      <td>0.152897</td>\n",
       "      <td>7.767457</td>\n",
       "      <td>2362.456055</td>\n",
       "      <td>00:03</td>\n",
       "    </tr>\n",
       "    <tr>\n",
       "      <td>32</td>\n",
       "      <td>0.138913</td>\n",
       "      <td>7.718730</td>\n",
       "      <td>2250.100098</td>\n",
       "      <td>00:03</td>\n",
       "    </tr>\n",
       "    <tr>\n",
       "      <td>33</td>\n",
       "      <td>0.124486</td>\n",
       "      <td>7.716012</td>\n",
       "      <td>2243.993652</td>\n",
       "      <td>00:03</td>\n",
       "    </tr>\n",
       "    <tr>\n",
       "      <td>34</td>\n",
       "      <td>0.112617</td>\n",
       "      <td>7.799118</td>\n",
       "      <td>2438.450439</td>\n",
       "      <td>00:03</td>\n",
       "    </tr>\n",
       "    <tr>\n",
       "      <td>35</td>\n",
       "      <td>0.106536</td>\n",
       "      <td>7.973835</td>\n",
       "      <td>2903.972656</td>\n",
       "      <td>00:03</td>\n",
       "    </tr>\n",
       "    <tr>\n",
       "      <td>36</td>\n",
       "      <td>0.102663</td>\n",
       "      <td>7.870738</td>\n",
       "      <td>2619.498047</td>\n",
       "      <td>00:03</td>\n",
       "    </tr>\n",
       "    <tr>\n",
       "      <td>37</td>\n",
       "      <td>0.093642</td>\n",
       "      <td>7.938330</td>\n",
       "      <td>2802.675293</td>\n",
       "      <td>00:03</td>\n",
       "    </tr>\n",
       "    <tr>\n",
       "      <td>38</td>\n",
       "      <td>0.082695</td>\n",
       "      <td>7.917906</td>\n",
       "      <td>2746.015625</td>\n",
       "      <td>00:03</td>\n",
       "    </tr>\n",
       "    <tr>\n",
       "      <td>39</td>\n",
       "      <td>0.072532</td>\n",
       "      <td>7.941599</td>\n",
       "      <td>2811.854004</td>\n",
       "      <td>00:03</td>\n",
       "    </tr>\n",
       "    <tr>\n",
       "      <td>40</td>\n",
       "      <td>0.063201</td>\n",
       "      <td>7.969610</td>\n",
       "      <td>2891.729980</td>\n",
       "      <td>00:03</td>\n",
       "    </tr>\n",
       "    <tr>\n",
       "      <td>41</td>\n",
       "      <td>0.054145</td>\n",
       "      <td>7.951906</td>\n",
       "      <td>2840.985352</td>\n",
       "      <td>00:03</td>\n",
       "    </tr>\n",
       "    <tr>\n",
       "      <td>42</td>\n",
       "      <td>0.047486</td>\n",
       "      <td>7.988445</td>\n",
       "      <td>2946.712158</td>\n",
       "      <td>00:03</td>\n",
       "    </tr>\n",
       "    <tr>\n",
       "      <td>43</td>\n",
       "      <td>0.041605</td>\n",
       "      <td>7.981123</td>\n",
       "      <td>2925.214111</td>\n",
       "      <td>00:03</td>\n",
       "    </tr>\n",
       "    <tr>\n",
       "      <td>44</td>\n",
       "      <td>0.036087</td>\n",
       "      <td>8.001551</td>\n",
       "      <td>2985.583984</td>\n",
       "      <td>00:03</td>\n",
       "    </tr>\n",
       "    <tr>\n",
       "      <td>45</td>\n",
       "      <td>0.031464</td>\n",
       "      <td>8.007274</td>\n",
       "      <td>3002.719482</td>\n",
       "      <td>00:03</td>\n",
       "    </tr>\n",
       "    <tr>\n",
       "      <td>46</td>\n",
       "      <td>0.027694</td>\n",
       "      <td>8.006233</td>\n",
       "      <td>2999.596924</td>\n",
       "      <td>00:03</td>\n",
       "    </tr>\n",
       "    <tr>\n",
       "      <td>47</td>\n",
       "      <td>0.024651</td>\n",
       "      <td>8.006705</td>\n",
       "      <td>3001.013428</td>\n",
       "      <td>00:03</td>\n",
       "    </tr>\n",
       "    <tr>\n",
       "      <td>48</td>\n",
       "      <td>0.022106</td>\n",
       "      <td>8.007133</td>\n",
       "      <td>3002.298584</td>\n",
       "      <td>00:03</td>\n",
       "    </tr>\n",
       "    <tr>\n",
       "      <td>49</td>\n",
       "      <td>0.020364</td>\n",
       "      <td>8.007379</td>\n",
       "      <td>3003.034668</td>\n",
       "      <td>00:03</td>\n",
       "    </tr>\n",
       "  </tbody>\n",
       "</table>"
      ],
      "text/plain": [
       "<IPython.core.display.HTML object>"
      ]
     },
     "metadata": {},
     "output_type": "display_data"
    }
   ],
   "source": [
    "#learn.unfreeze()\n",
    "learn.fit_one_cycle(50)"
   ]
  },
  {
   "cell_type": "code",
   "execution_count": 26,
   "id": "b60473e9-af39-451a-8f44-17c5db03a3bc",
   "metadata": {},
   "outputs": [],
   "source": [
    "def generate_sequence(prompt):\n",
    "    prompt_ids = tokenizer.encode(prompt)\n",
    "    inp = tensor(prompt_ids)[None].cuda()\n",
    "    preds = learn.model.generate(\n",
    "        inp,\n",
    "        max_length=MAX_LENGTH,\n",
    "        pad_token_id=tokenizer.pad_token_id,\n",
    "        bos_token_id=tokenizer.bos_token_id,\n",
    "        eos_token_id=tokenizer.eos_token_id,\n",
    "        use_cache=True\n",
    "    )\n",
    "    return tokenizer.decode(preds[0].cpu().numpy())"
   ]
  },
  {
   "cell_type": "code",
   "execution_count": 31,
   "id": "ac3f7548-2dbf-4755-84d5-1cee9465387e",
   "metadata": {},
   "outputs": [
    {
     "data": {
      "text/plain": [
       "'인공지능 대체 왜........ (고개를 확 들며 울먹이며) 남친도 있으면서 대체 왜 나한테 그렇게 이쁘게 웃어줬냐고!!!!!!!!!!!!! (뒤에 포효할 때 다메다메 브금) 남자 : 어..... 뭔가 오해가 있는거 같은데 저는 얘 남친이 아니라 친형인데요? 수민 :........아,아아!!!! 죄송합니다 헤헤 제가 큰 오해를......(갑자기 눈을 크게 뜨며 땀, 동공지진)잠깐..... 치,친형'"
      ]
     },
     "execution_count": 31,
     "metadata": {},
     "output_type": "execute_result"
    }
   ],
   "source": [
    "generate_sequence('인공지능')"
   ]
  },
  {
   "cell_type": "code",
   "execution_count": 17,
   "id": "ecdd2108-a932-4584-a529-d933a91523cb",
   "metadata": {},
   "outputs": [],
   "source": [
    "#learn.model.save_pretrained('kogpt2novel_backup')\n",
    "#model.push_to_hub('kogpt2novel')\n",
    "#tokenizer.push_to_hub('kogpt2novel')"
   ]
  },
  {
   "cell_type": "code",
   "execution_count": null,
   "id": "a3d5a342-92a5-4731-83d6-281c8aa69eb3",
   "metadata": {},
   "outputs": [],
   "source": []
  }
 ],
 "metadata": {
  "kernelspec": {
   "display_name": "Python 3 (ipykernel)",
   "language": "python",
   "name": "python3"
  },
  "language_info": {
   "codemirror_mode": {
    "name": "ipython",
    "version": 3
   },
   "file_extension": ".py",
   "mimetype": "text/x-python",
   "name": "python",
   "nbconvert_exporter": "python",
   "pygments_lexer": "ipython3",
   "version": "3.8.10"
  }
 },
 "nbformat": 4,
 "nbformat_minor": 5
}
