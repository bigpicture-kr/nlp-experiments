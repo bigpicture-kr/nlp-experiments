{
 "cells": [
  {
   "cell_type": "code",
   "execution_count": 1,
   "id": "3ad09463-a9ee-4d34-af79-625a11be7002",
   "metadata": {},
   "outputs": [
    {
     "name": "stderr",
     "output_type": "stream",
     "text": [
      "2022-07-06 00:42:18.745605: I tensorflow/core/util/util.cc:169] oneDNN custom operations are on. You may see slightly different numerical results due to floating-point round-off errors from different computation orders. To turn them off, set the environment variable `TF_ENABLE_ONEDNN_OPTS=0`.\n"
     ]
    }
   ],
   "source": [
    "import os\n",
    "import torch\n",
    "import transformers\n",
    "from transformers import AutoModelWithLMHead, PreTrainedTokenizerFast\n",
    "from fastai.text.all import *\n",
    "from tqdm.notebook import tqdm\n",
    "from glob import glob\n",
    "import fastai\n",
    "import re\n",
    "import csv"
   ]
  },
  {
   "cell_type": "code",
   "execution_count": 2,
   "id": "018a1a7b-280b-4c80-b1bf-9590999156bc",
   "metadata": {},
   "outputs": [
    {
     "name": "stdout",
     "output_type": "stream",
     "text": [
      "1.7.1\n",
      "4.21.0.dev0\n",
      "2.2.5\n"
     ]
    }
   ],
   "source": [
    "print(torch.__version__)\n",
    "print(transformers.__version__)\n",
    "print(fastai.__version__)"
   ]
  },
  {
   "cell_type": "code",
   "execution_count": 3,
   "id": "c2cd1388-7579-48d7-9c30-5f8ba99ba738",
   "metadata": {},
   "outputs": [],
   "source": [
    "DEVICE = torch.device('cuda' if torch.cuda.is_available() else 'cpu')\n",
    "PRETRAINED_MODEL = 'skt/kogpt2-base-v2'\n",
    "BATCH_SIZE = 8\n",
    "SEQ_LENGTH = 256\n",
    "MAX_LENGTH = 512\n",
    "DATASET_PATH = './data/jjaltoon_scripts_130/'"
   ]
  },
  {
   "cell_type": "code",
   "execution_count": 4,
   "id": "24297b2b-a8bf-4430-882f-14e24b83bff7",
   "metadata": {},
   "outputs": [
    {
     "name": "stderr",
     "output_type": "stream",
     "text": [
      "The tokenizer class you load from this checkpoint is not the same type as the class this function is called from. It may result in unexpected tokenization. \n",
      "The tokenizer class you load from this checkpoint is 'GPT2Tokenizer'. \n",
      "The class this function is called from is 'PreTrainedTokenizerFast'.\n",
      "/usr/local/lib/python3.8/dist-packages/transformers/models/auto/modeling_auto.py:969: FutureWarning: The class `AutoModelWithLMHead` is deprecated and will be removed in a future version. Please use `AutoModelForCausalLM` for causal language models, `AutoModelForMaskedLM` for masked language models and `AutoModelForSeq2SeqLM` for encoder-decoder models.\n",
      "  warnings.warn(\n"
     ]
    }
   ],
   "source": [
    "tokenizer = PreTrainedTokenizerFast.from_pretrained(\n",
    "    PRETRAINED_MODEL,\n",
    "    unk_token='<unk>',\n",
    "    pad_token='<pad>',\n",
    "    mask_token='<mask>',\n",
    "    bos_token='<s>',\n",
    "    eos_token='</s>'\n",
    ")\n",
    "model = AutoModelWithLMHead.from_pretrained(PRETRAINED_MODEL)"
   ]
  },
  {
   "cell_type": "code",
   "execution_count": 5,
   "id": "9237cebc-1c3d-4567-9dad-82615931cd28",
   "metadata": {},
   "outputs": [
    {
     "data": {
      "text/plain": [
       "['▁G',\n",
       " 'P',\n",
       " 'T',\n",
       " '-2',\n",
       " '▁토크',\n",
       " '나이',\n",
       " '저',\n",
       " '▁테',\n",
       " '스트',\n",
       " '.',\n",
       " '▁안녕',\n",
       " '하',\n",
       " '세',\n",
       " '요.']"
      ]
     },
     "execution_count": 5,
     "metadata": {},
     "output_type": "execute_result"
    }
   ],
   "source": [
    "tokenizer.tokenize('GPT-2 토크나이저 테스트. 안녕하세요.')"
   ]
  },
  {
   "cell_type": "code",
   "execution_count": 6,
   "id": "1038f2b8-3b8a-4169-ba08-b9490e204939",
   "metadata": {},
   "outputs": [
    {
     "data": {
      "text/plain": [
       "'오늘의 메뉴는 ‘치킨’. 치즈에 햄을 넣어 만든 소스다.\\n이렇게 해서 나온 것이 바로 닭가슴살이다.\\n닭 가슴살은 육질이 부드럽고 담백해 남녀노소 누구나 좋아하는 음식 중 하나다.\\n특히, 이번에 선보인 신메일은 국내산 돼지고기를 사용해 더욱 고소하고 부드러운 맛을 느낄 수 있다.\\n또한 양파, 마늘 등 야채와 함께 곁들여 먹으면 더 맛있게 먹을 수도 있다.</d> 지난달 30일 서울 강남구 삼성동 코엑스에서 열린 \\'2018 대한민국 디자인대상\\' 시상식에서 한국디자인진흥원이 주최하는 이번 공모전은 총 330여점의 작품이 접수됐다.\\n심사위원단은 \"한국 디자인의 우수성을 널리 알리고 디자인을 통한 국가 경쟁력 제고에 기여하고자 하는 취지에서 기획됐다\"고 선정 이유를 밝혔다.\\n수상작은 ▲김영란법 시행으로 인한 소비심리 위축과 저성장 기조 속에서 소비자의 생활 패턴 변화를 반영한 제품(박성수)▲소비자 중심의 새로운 라이프스타일을 제안할 상품(이종훈), 소비자 중심형 제품을 개발·생산·유통·판매하기 위한 전략 및 아이디어 등이 담긴 작품(\\'장윤주)\\' 등이다.\\n심사는 심사위원회 심사를 거쳐 수상작을 최종 확정했다.\\n시상식은 오는 11월 2일 오후 2시부터 5시까지 열린다.\\n올해로 3회째를 맞는 2018대한민국 디자인이벤트는 산업통상자원부가 주관하고, 한국산업디자이너협회가 주관하는 행사다. 가격은 1만원부터 10만원(세금 포함)이다.\\n공모전 참가 신청은 다음 달 1일부터 31일까지이며, 자세한 내용은 홈페이지(www.kidsi.kr)에서 확인할 수가 있으며, 기타 문의사항도 가능하다..\\n최우수상은 △신제품개발팀의 `아임유`가 수상했다.\\n아이디어는 창의성과 실용성이 돋보이며 제품의 완성도를 높였다는 평가를 받았다.\\n장려상에는 ▷정재희 팀장의 아이디어가 돋보이는 제품이 뽑혔다.\\n△강민경 씨와 김지현 씨의 공동작업물품이 출품돼 눈길을 끌었다.\\n선발된 작품은 내년 1월 중순께 출시될 예정이다.\\n산업통상자원부 관계자는 \"이번 행사는 산업디자인의 중요성을 알리는 좋은 기회가 될 것\"이라며 “앞으로도 다양한 분야의 디자이너들이 참여해 우리 산업의 경쟁력을 높이는데 기여할 것\"이라고 말했다..<unk>02-3410-0940/com에서 확인 할 수는 있습니다.</d> 현대자동차가 올 상반기 글로벌 시장에서 전 세계 판매량 1위를 차지했다.\\n현대차는 1일 미국 시장조사기관 JD파워 조사 결과 6월 한 해 동안 전세계 자동차시장에서 모두 5만4천750대를 팔아 작년(5만370대)보다 8.3% 증가한 실적을 기록했다고 발표했다.\\n이는 역대 최고 실적이다.\\nJD. 파워드 조사의 7월 기준 점유'"
      ]
     },
     "execution_count": 6,
     "metadata": {},
     "output_type": "execute_result"
    }
   ],
   "source": [
    "text = '오늘의 메뉴는'\n",
    "input_ids = tokenizer.encode(text)\n",
    "gen_ids = model.generate(\n",
    "    torch.tensor([input_ids]),\n",
    "    max_length=MAX_LENGTH,\n",
    "    repetition_penalty=2.0,\n",
    "    pad_token_id=tokenizer.pad_token_id,\n",
    "    bos_token_id=tokenizer.bos_token_id,\n",
    "    eos_token_id=tokenizer.eos_token_id,\n",
    "    use_cache=True\n",
    ")\n",
    "generated = tokenizer.decode(gen_ids[0,:].tolist())\n",
    "generated"
   ]
  },
  {
   "cell_type": "code",
   "execution_count": 7,
   "id": "613a1e1d-dee5-4fa0-b90d-b3a093a5d709",
   "metadata": {},
   "outputs": [],
   "source": [
    "def get_file_list(data_path, pattern):\n",
    "    filelist = []\n",
    "\n",
    "    for dir, _, _ in os.walk(data_path):\n",
    "        filelist.extend(glob(os.path.join(dir, pattern)))\n",
    "    \n",
    "    return filelist"
   ]
  },
  {
   "cell_type": "code",
   "execution_count": 8,
   "id": "2c0599b3-1a90-432b-940e-717c6932ca68",
   "metadata": {},
   "outputs": [
    {
     "data": {
      "application/vnd.jupyter.widget-view+json": {
       "model_id": "8231305f96c34a7393706a83a809c781",
       "version_major": 2,
       "version_minor": 0
      },
      "text/plain": [
       "input data files:   0%|          | 0/129 [00:00<?, ?it/s]"
      ]
     },
     "metadata": {},
     "output_type": "display_data"
    },
    {
     "data": {
      "text/plain": [
       "292139"
      ]
     },
     "execution_count": 8,
     "metadata": {},
     "output_type": "execute_result"
    }
   ],
   "source": [
    "texts = []\n",
    "\n",
    "file_list = get_file_list(DATASET_PATH, '*.csv')\n",
    "for file_path in tqdm(file_list, desc='input data files'):\n",
    "    with open(file_path, mode='r', encoding='utf-8') as file:\n",
    "        #file_content = file.read()\n",
    "        reader = csv.DictReader(file)\n",
    "        speeches = []\n",
    "        for row in reader:\n",
    "            if row['type'] == 'speech':\n",
    "                speeches.append(row['speech'])\n",
    "    texts.append('\\n'.join(speeches))\n",
    "\n",
    "data = ' '.join(texts)\n",
    "len(data)"
   ]
  },
  {
   "cell_type": "code",
   "execution_count": 9,
   "id": "99d22017-6425-4c25-a65f-e4a097a0cffb",
   "metadata": {},
   "outputs": [
    {
     "data": {
      "text/plain": [
       "284068"
      ]
     },
     "execution_count": 9,
     "metadata": {},
     "output_type": "execute_result"
    }
   ],
   "source": [
    "# Normalization\n",
    "data = re.sub('[●○]', '', data)\n",
    "data = re.sub('!+', '!', data)\n",
    "data = re.sub('\\?+', '?', data)\n",
    "data = re.sub('(\\?!|!\\?)+', '?!', data)\n",
    "data = re.sub('\\.\\.\\.\\.+', '...', data)\n",
    "len(data)"
   ]
  },
  {
   "cell_type": "code",
   "execution_count": 10,
   "id": "075d6151-a5c1-40a4-9e5f-1846105848ca",
   "metadata": {},
   "outputs": [],
   "source": [
    "class TransformersTokenizer(Transform):\n",
    "    def __init__(self, tokenizer):\n",
    "        self.tokenizer = tokenizer\n",
    "    \n",
    "    def encodes(self, x):\n",
    "        tokens = self.tokenizer.tokenize(x)\n",
    "        return tensor(self.tokenizer.convert_tokens_to_ids(tokens))\n",
    "    \n",
    "    def decodes(self, x):\n",
    "        return TitledStr(self.tokenizer.decode(x.cpu().numpy()))"
   ]
  },
  {
   "cell_type": "code",
   "execution_count": 11,
   "id": "871c3d54-6095-492f-9bab-469bd3f82be1",
   "metadata": {},
   "outputs": [],
   "source": [
    "train_data = data[:int(len(data) * 0.9)]\n",
    "test_data = data[int(len(data) * 0.9):]\n",
    "splits = [[0], [1]]"
   ]
  },
  {
   "cell_type": "code",
   "execution_count": 12,
   "id": "53a8d5e9-f9fe-4ddb-8800-26b70cadf0a6",
   "metadata": {},
   "outputs": [
    {
     "name": "stderr",
     "output_type": "stream",
     "text": [
      "/usr/local/lib/python3.8/dist-packages/fastai/torch_core.py:458: FutureWarning: The series.append method is deprecated and will be removed from pandas in a future version. Use pandas.concat instead.\n",
      "  ax = ax.append(pd.Series({label: o}))\n",
      "/usr/local/lib/python3.8/dist-packages/fastai/torch_core.py:458: FutureWarning: The series.append method is deprecated and will be removed from pandas in a future version. Use pandas.concat instead.\n",
      "  ax = ax.append(pd.Series({label: o}))\n",
      "/usr/local/lib/python3.8/dist-packages/fastai/torch_core.py:458: FutureWarning: The series.append method is deprecated and will be removed from pandas in a future version. Use pandas.concat instead.\n",
      "  ax = ax.append(pd.Series({label: o}))\n",
      "/usr/local/lib/python3.8/dist-packages/fastai/torch_core.py:458: FutureWarning: The series.append method is deprecated and will be removed from pandas in a future version. Use pandas.concat instead.\n",
      "  ax = ax.append(pd.Series({label: o}))\n"
     ]
    },
    {
     "data": {
      "text/html": [
       "<table border=\"1\" class=\"dataframe\">\n",
       "  <thead>\n",
       "    <tr style=\"text-align: right;\">\n",
       "      <th></th>\n",
       "      <th>text</th>\n",
       "      <th>text_</th>\n",
       "    </tr>\n",
       "  </thead>\n",
       "  <tbody>\n",
       "    <tr>\n",
       "      <th>0</th>\n",
       "      <td>내이름은 사탄! 크리스마스도 다가오고 산타클로스 회사에서 아르바이트를 시작했다!\\n자 한명씩 호명할게요...김 산타씨?\\n네\\n마이클 드 산타씨?\\n나마씨발. 엿이나 먹어!)\\n...사탄씨?\\n네!\\n예. 그. 예. 연재를 안해줘서요.\\n그럼 이제 이번 아르바이트부터는 계속 꾸준히 일 하실 생각이신가요?\\n(표정하나 바뀌지않고 ) 아뇨.\\n어... 그래도 사탄씨 같은사람이 일 안하기는 좀 아까운데\\n안해요.\\n어...그래. 뭐 어쩔수 없지. 일단 일을 시작해볼까?\\n자네는 오늘 처음왔으니까... 어디보자..(종이를보며) 어. 서울 쪽만 좀 부탁해~?\\n반장님은 어디 가시는데요?\\n나는 저기 그~~~ 저기 더 넓은 곳 돌아야 돼\\n안성\\n서울이 더 넓잖아요\\n야!\\n휴...됐다. 오랜만에 일하는건데 좀 많이하지 뭐. 하지만 아무리그래도 나는 사탄!\\n흐흐흐 문도 제대로 안잠궈놓고 세상모르고 자고있군!\\n(여자목소리로) 어머깜짝이야!\\n어...뭐,뭐야! 당신 누구야!\\n나는</td>\n",
       "      <td>이름은 사탄! 크리스마스도 다가오고 산타클로스 회사에서 아르바이트를 시작했다!\\n자 한명씩 호명할게요...김 산타씨?\\n네\\n마이클 드 산타씨?\\n나마씨발. 엿이나 먹어!)\\n...사탄씨?\\n네!\\n예. 그. 예. 연재를 안해줘서요.\\n그럼 이제 이번 아르바이트부터는 계속 꾸준히 일 하실 생각이신가요?\\n(표정하나 바뀌지않고 ) 아뇨.\\n어... 그래도 사탄씨 같은사람이 일 안하기는 좀 아까운데\\n안해요.\\n어...그래. 뭐 어쩔수 없지. 일단 일을 시작해볼까?\\n자네는 오늘 처음왔으니까... 어디보자..(종이를보며) 어. 서울 쪽만 좀 부탁해~?\\n반장님은 어디 가시는데요?\\n나는 저기 그~~~ 저기 더 넓은 곳 돌아야 돼\\n안성\\n서울이 더 넓잖아요\\n야!\\n휴...됐다. 오랜만에 일하는건데 좀 많이하지 뭐. 하지만 아무리그래도 나는 사탄!\\n흐흐흐 문도 제대로 안잠궈놓고 세상모르고 자고있군!\\n(여자목소리로) 어머깜짝이야!\\n어...뭐,뭐야! 당신 누구야!\\n나는 사</td>\n",
       "    </tr>\n",
       "    <tr>\n",
       "      <th>1</th>\n",
       "      <td>으며) 뭔데, 함 봐바 새&lt;unk&gt;~\\n아앗..!\\n(민중의 폰을 보며) 응? 뭐야 이거 엌ᄏᄏᄏᄏᄏ (다른 아이들에게 소리치듯) 야! 이 새끼 쇼미 하이라이트 본다!\\n(인상 찌푸리며) 에? 혼또?\\n(옆의 다른 여자 애에게 묻듯이) 쇼미? 그게 뭐야...?\\n그거 막 인싸들이나 보는 거 아님?\\n(폰을 뺏으려 들며) 도... 돌려줘...!\\nᄏᄏ 김민중 이&lt;unk&gt; 그냥 일진인줄만 알았는데 힙찔이 설정까지 있었냐고~\\n노래방 가면 막 랩 같은 거 부르는 거 아냐? 랄까 극혐이라구 어이!\\n(얼굴이 빨개져서 부들대며) 으으....\\n(핸드폰을 몇번 만지작거리면서) 어? 야 잠깐 이 새끼 인스타도 하는데?\\n아... 안돼...! 보지마!\\n(동민이 들고 있는 휴대폰을 보며) 뭐야 이거...? 본인 방금 손흥민 되는 상상함? (휴대폰 화면이 보이면서 글 읽는 톤으로) 나 괴롭히던 십덕들 (박형우, 김동</td>\n",
       "      <td>) 뭔데, 함 봐바 새&lt;unk&gt;~\\n아앗..!\\n(민중의 폰을 보며) 응? 뭐야 이거 엌ᄏᄏᄏᄏᄏ (다른 아이들에게 소리치듯) 야! 이 새끼 쇼미 하이라이트 본다!\\n(인상 찌푸리며) 에? 혼또?\\n(옆의 다른 여자 애에게 묻듯이) 쇼미? 그게 뭐야...?\\n그거 막 인싸들이나 보는 거 아님?\\n(폰을 뺏으려 들며) 도... 돌려줘...!\\nᄏᄏ 김민중 이&lt;unk&gt; 그냥 일진인줄만 알았는데 힙찔이 설정까지 있었냐고~\\n노래방 가면 막 랩 같은 거 부르는 거 아냐? 랄까 극혐이라구 어이!\\n(얼굴이 빨개져서 부들대며) 으으....\\n(핸드폰을 몇번 만지작거리면서) 어? 야 잠깐 이 새끼 인스타도 하는데?\\n아... 안돼...! 보지마!\\n(동민이 들고 있는 휴대폰을 보며) 뭐야 이거...? 본인 방금 손흥민 되는 상상함? (휴대폰 화면이 보이면서 글 읽는 톤으로) 나 괴롭히던 십덕들 (박형우, 김동민)</td>\n",
       "    </tr>\n",
       "  </tbody>\n",
       "</table>"
      ],
      "text/plain": [
       "<IPython.core.display.HTML object>"
      ]
     },
     "metadata": {},
     "output_type": "display_data"
    }
   ],
   "source": [
    "tls = TfmdLists([train_data, test_data], TransformersTokenizer(tokenizer), splits=splits, dl_type=LMDataLoader)\n",
    "dls = tls.dataloaders(bs=BATCH_SIZE, seq_len=SEQ_LENGTH)\n",
    "dls.show_batch(max_n=2)"
   ]
  },
  {
   "cell_type": "code",
   "execution_count": 13,
   "id": "19bf6902-1199-40f0-bedb-3ecc7272fc44",
   "metadata": {},
   "outputs": [],
   "source": [
    "class DropOutput(Callback):\n",
    "    def after_pred(self):\n",
    "        self.learn.pred = self.pred[0]"
   ]
  },
  {
   "cell_type": "code",
   "execution_count": 14,
   "id": "76fddbc7-07ba-49b4-8de3-4c985add5df6",
   "metadata": {},
   "outputs": [
    {
     "data": {
      "text/html": [
       "\n",
       "<style>\n",
       "    /* Turns off some styling */\n",
       "    progress {\n",
       "        /* gets rid of default border in Firefox and Opera. */\n",
       "        border: none;\n",
       "        /* Needs to be in here for Safari polyfill so background images work as expected. */\n",
       "        background-size: auto;\n",
       "    }\n",
       "    .progress-bar-interrupted, .progress-bar-interrupted::-webkit-progress-bar {\n",
       "        background: #F44336;\n",
       "    }\n",
       "</style>\n"
      ],
      "text/plain": [
       "<IPython.core.display.HTML object>"
      ]
     },
     "metadata": {},
     "output_type": "display_data"
    },
    {
     "data": {
      "text/html": [],
      "text/plain": [
       "<IPython.core.display.HTML object>"
      ]
     },
     "metadata": {},
     "output_type": "display_data"
    },
    {
     "data": {
      "text/plain": [
       "SuggestedLRs(lr_min=0.014454397559165954, lr_steep=0.12022644281387329)"
      ]
     },
     "execution_count": 14,
     "metadata": {},
     "output_type": "execute_result"
    },
    {
     "data": {
      "image/png": "[encoded data removed]",
      "text/plain": [
       "<Figure size 432x288 with 1 Axes>"
      ]
     },
     "metadata": {
      "needs_background": "light"
     },
     "output_type": "display_data"
    }
   ],
   "source": [
    "learn = Learner(dls, model, loss_func=CrossEntropyLossFlat(), cbs=[DropOutput], metrics=Perplexity()).to_fp16()\n",
    "learn.lr_find()"
   ]
  },
  {
   "cell_type": "code",
   "execution_count": null,
   "id": "9c9d5242-438f-4ddf-a9c3-0e78b689be52",
   "metadata": {},
   "outputs": [
    {
     "data": {
      "text/html": [
       "\n",
       "<style>\n",
       "    /* Turns off some styling */\n",
       "    progress {\n",
       "        /* gets rid of default border in Firefox and Opera. */\n",
       "        border: none;\n",
       "        /* Needs to be in here for Safari polyfill so background images work as expected. */\n",
       "        background-size: auto;\n",
       "    }\n",
       "    .progress-bar-interrupted, .progress-bar-interrupted::-webkit-progress-bar {\n",
       "        background: #F44336;\n",
       "    }\n",
       "</style>\n"
      ],
      "text/plain": [
       "<IPython.core.display.HTML object>"
      ]
     },
     "metadata": {},
     "output_type": "display_data"
    },
    {
     "data": {
      "text/html": [
       "\n",
       "    <div>\n",
       "      <progress value='8' class='' max='10' style='width:300px; height:20px; vertical-align: middle;'></progress>\n",
       "      80.00% [8/10 02:33<00:38]\n",
       "    </div>\n",
       "    \n",
       "<table border=\"1\" class=\"dataframe\">\n",
       "  <thead>\n",
       "    <tr style=\"text-align: left;\">\n",
       "      <th>epoch</th>\n",
       "      <th>train_loss</th>\n",
       "      <th>valid_loss</th>\n",
       "      <th>perplexity</th>\n",
       "      <th>time</th>\n",
       "    </tr>\n",
       "  </thead>\n",
       "  <tbody>\n",
       "    <tr>\n",
       "      <td>0</td>\n",
       "      <td>4.550223</td>\n",
       "      <td>4.538737</td>\n",
       "      <td>93.572571</td>\n",
       "      <td>00:18</td>\n",
       "    </tr>\n",
       "    <tr>\n",
       "      <td>1</td>\n",
       "      <td>4.612425</td>\n",
       "      <td>5.435915</td>\n",
       "      <td>229.502853</td>\n",
       "      <td>00:19</td>\n",
       "    </tr>\n",
       "    <tr>\n",
       "      <td>2</td>\n",
       "      <td>4.393174</td>\n",
       "      <td>5.716810</td>\n",
       "      <td>303.933746</td>\n",
       "      <td>00:19</td>\n",
       "    </tr>\n",
       "    <tr>\n",
       "      <td>3</td>\n",
       "      <td>3.807018</td>\n",
       "      <td>5.995734</td>\n",
       "      <td>401.711517</td>\n",
       "      <td>00:19</td>\n",
       "    </tr>\n",
       "    <tr>\n",
       "      <td>4</td>\n",
       "      <td>3.131456</td>\n",
       "      <td>6.213803</td>\n",
       "      <td>499.597748</td>\n",
       "      <td>00:19</td>\n",
       "    </tr>\n",
       "    <tr>\n",
       "      <td>5</td>\n",
       "      <td>2.416836</td>\n",
       "      <td>6.401273</td>\n",
       "      <td>602.611511</td>\n",
       "      <td>00:19</td>\n",
       "    </tr>\n",
       "    <tr>\n",
       "      <td>6</td>\n",
       "      <td>1.736235</td>\n",
       "      <td>6.516711</td>\n",
       "      <td>676.350037</td>\n",
       "      <td>00:19</td>\n",
       "    </tr>\n",
       "    <tr>\n",
       "      <td>7</td>\n",
       "      <td>1.155201</td>\n",
       "      <td>6.574477</td>\n",
       "      <td>716.570923</td>\n",
       "      <td>00:19</td>\n",
       "    </tr>\n",
       "  </tbody>\n",
       "</table><p>\n",
       "\n",
       "    <div>\n",
       "      <progress value='46' class='' max='69' style='width:300px; height:20px; vertical-align: middle;'></progress>\n",
       "      66.67% [46/69 00:12<00:06 0.8721]\n",
       "    </div>\n",
       "    "
      ],
      "text/plain": [
       "<IPython.core.display.HTML object>"
      ]
     },
     "metadata": {},
     "output_type": "display_data"
    }
   ],
   "source": [
    "#learn.unfreeze()\n",
    "learn.fit_one_cycle(10)"
   ]
  },
  {
   "cell_type": "code",
   "execution_count": null,
   "id": "b60473e9-af39-451a-8f44-17c5db03a3bc",
   "metadata": {},
   "outputs": [],
   "source": [
    "def generate_sequence(prompt):\n",
    "    prompt_ids = tokenizer.encode(prompt)\n",
    "    inp = tensor(prompt_ids)[None].cuda()\n",
    "    preds = learn.model.generate(\n",
    "        inp,\n",
    "        max_length=MAX_LENGTH,\n",
    "        pad_token_id=tokenizer.pad_token_id,\n",
    "        bos_token_id=tokenizer.bos_token_id,\n",
    "        eos_token_id=tokenizer.eos_token_id,\n",
    "        use_cache=True\n",
    "    )\n",
    "    return tokenizer.decode(preds[0].cpu().numpy())"
   ]
  },
  {
   "cell_type": "code",
   "execution_count": null,
   "id": "ac3f7548-2dbf-4755-84d5-1cee9465387e",
   "metadata": {},
   "outputs": [],
   "source": [
    "generate_sequence('내 이름은')"
   ]
  },
  {
   "cell_type": "code",
   "execution_count": null,
   "id": "1fd672ff-c4b8-4bc2-93a2-04b429430211",
   "metadata": {},
   "outputs": [],
   "source": [
    "!grep -r '반가워하며' ./data/"
   ]
  }
 ],
 "metadata": {
  "kernelspec": {
   "display_name": "Python 3 (ipykernel)",
   "language": "python",
   "name": "python3"
  },
  "language_info": {
   "codemirror_mode": {
    "name": "ipython",
    "version": 3
   },
   "file_extension": ".py",
   "mimetype": "text/x-python",
   "name": "python",
   "nbconvert_exporter": "python",
   "pygments_lexer": "ipython3",
   "version": "3.8.10"
  },
  "toc-autonumbering": true,
  "toc-showcode": true,
  "toc-showmarkdowntxt": true
 },
 "nbformat": 4,
 "nbformat_minor": 5
}
